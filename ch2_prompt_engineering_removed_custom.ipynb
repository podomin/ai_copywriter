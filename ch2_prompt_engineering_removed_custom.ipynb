{
 "cells": [
  {
   "cell_type": "markdown",
   "id": "12b3c648-aa08-4abe-819f-2744413087a7",
   "metadata": {},
   "source": [
    "# ch2. 마케팅 문구 생성 프롬프트 엔지니어링\n",
    "\n",
    "이번 챕터에서는 마케팅 문구를 생성하기 위한 프롬프트를 작성해보겠습니다."
   ]
  },
  {
   "cell_type": "markdown",
   "id": "1991dfb8-1c40-4bdd-b20f-c13242f8d7bc",
   "metadata": {},
   "source": [
    "## chatGPT API 사용 설정"
   ]
  },
  {
   "cell_type": "code",
   "execution_count": 2,
   "id": "5189c0c5",
   "metadata": {},
   "outputs": [
    {
     "name": "stdout",
     "output_type": "stream",
     "text": [
      "Defaulting to user installation because normal site-packages is not writeable\n",
      "Requirement already satisfied: openai in c:\\users\\82108\\appdata\\roaming\\python\\python311\\site-packages (1.6.1)\n",
      "Requirement already satisfied: anyio<5,>=3.5.0 in c:\\programdata\\anaconda3\\lib\\site-packages (from openai) (3.5.0)\n",
      "Requirement already satisfied: distro<2,>=1.7.0 in c:\\users\\82108\\appdata\\roaming\\python\\python311\\site-packages (from openai) (1.9.0)\n",
      "Requirement already satisfied: httpx<1,>=0.23.0 in c:\\users\\82108\\appdata\\roaming\\python\\python311\\site-packages (from openai) (0.26.0)\n",
      "Requirement already satisfied: pydantic<3,>=1.9.0 in c:\\programdata\\anaconda3\\lib\\site-packages (from openai) (1.10.8)\n",
      "Requirement already satisfied: sniffio in c:\\programdata\\anaconda3\\lib\\site-packages (from openai) (1.2.0)\n",
      "Requirement already satisfied: tqdm>4 in c:\\programdata\\anaconda3\\lib\\site-packages (from openai) (4.65.0)\n",
      "Requirement already satisfied: typing-extensions<5,>=4.7 in c:\\programdata\\anaconda3\\lib\\site-packages (from openai) (4.7.1)\n",
      "Requirement already satisfied: idna>=2.8 in c:\\programdata\\anaconda3\\lib\\site-packages (from anyio<5,>=3.5.0->openai) (3.4)\n",
      "Requirement already satisfied: certifi in c:\\programdata\\anaconda3\\lib\\site-packages (from httpx<1,>=0.23.0->openai) (2023.7.22)\n",
      "Requirement already satisfied: httpcore==1.* in c:\\users\\82108\\appdata\\roaming\\python\\python311\\site-packages (from httpx<1,>=0.23.0->openai) (1.0.2)\n",
      "Requirement already satisfied: h11<0.15,>=0.13 in c:\\users\\82108\\appdata\\roaming\\python\\python311\\site-packages (from httpcore==1.*->httpx<1,>=0.23.0->openai) (0.14.0)\n",
      "Requirement already satisfied: colorama in c:\\programdata\\anaconda3\\lib\\site-packages (from tqdm>4->openai) (0.4.6)\n",
      "Note: you may need to restart the kernel to use updated packages.\n"
     ]
    }
   ],
   "source": [
    "%pip install openai"
   ]
  },
  {
   "cell_type": "code",
   "execution_count": 18,
   "id": "fa4e9dcc-9b87-4e77-ac93-e2e57b17d95b",
   "metadata": {},
   "outputs": [],
   "source": [
    "import os\n",
    "from openai import OpenAI\n",
    "\n",
    "client = OpenAI(\n",
    "    api_key=\"open-api\"\n",
    ")"
   ]
  },
  {
   "cell_type": "code",
   "execution_count": 19,
   "id": "f62a1757-87c1-4d8f-a3d4-78e6f85d3758",
   "metadata": {
    "tags": []
   },
   "outputs": [],
   "source": [
    "def print_streaming_response(response):\n",
    "    for chunk in response:\n",
    "        delta = chunk.choices[0].delta\n",
    "        if delta.content:\n",
    "            print(delta.content, end=\"\")"
   ]
  },
  {
   "cell_type": "code",
   "execution_count": 20,
   "id": "3f445ac0-8549-4261-9305-2828df23ed47",
   "metadata": {
    "tags": []
   },
   "outputs": [
    {
     "name": "stdout",
     "output_type": "stream",
     "text": [
      "저녁으로 무엇을 먹을지는 개인의 취향과 식사 스타일에 따라 달라질 수 있습니다. 하지만 다양한 음식 중에서 추천해드릴만한 몇 가지 옵션을 드리자면:\n",
      "\n",
      "1. 한식: 국밥, 불고기, 갈비찜, 갈치조림 등 전통적인 한식 요리를 즐길 수 있습니다.\n",
      "2. 중식: 짜장면, 탕수육, 깐쇼새우, 짬뽕 등 다양한 중식 요리를 선택할 수 있습니다.\n",
      "3. 일식: 초밥, 덮밥, 우동, 라멘 등 일본 음식을 즐길 수 있습니다.\n",
      "4. 양식: 스테이크, 파스타, 피자, 리조또 등 다양한 양식 요리를 선택할 수 있습니다.\n",
      "5. 분식: 떡볶이, 튀김, 김밥, 라면 등 한국의 분식을 즐길 수 있습니다.\n",
      "\n",
      "또한, 고기, 생선, 채소, 또는 면 등 다양한 재료를 활용하여 만들 수 있는 집에서 식사를 준비해보는 것도 좋은 방법입니다. 식사를 선택할 때, 개인의 식사 스타일과 건강 상태를 고려하여 여러 가지 요리 중 원하는 음식을 골라보시는 것이 좋습니다."
     ]
    }
   ],
   "source": [
    "response = client.chat.completions.create(\n",
    "        model = \"gpt-3.5-turbo\",\n",
    "        messages = [\n",
    "            {\"role\": \"user\", \"content\": \"오늘 저녁에 뭘 먹는게 좋을까요?\"}\n",
    "        ],\n",
    "    stream=True\n",
    "    )\n",
    "print_streaming_response(response)"
   ]
  },
  {
   "cell_type": "markdown",
   "id": "577805f6-bb4e-45d3-9eed-847330fc8e03",
   "metadata": {},
   "source": [
    "## 프롬프트 엔지니어링"
   ]
  },
  {
   "cell_type": "markdown",
   "id": "8aa783b0-c650-4d34-8f6c-69501ae6326b",
   "metadata": {},
   "source": [
    "### AI에게 역할부여\n",
    "\n",
    "광고 문구를 생성하기 위해서 먼저 system message를 이용해서 AI에게 \"전문 카피라이터\" 라는 역할을 부여하겠습니다.  \n",
    "그 다음, 유저로부터 프롬프트만 전달받아서 응답을 리턴하도록 함수화 하겠습니다."
   ]
  },
  {
   "cell_type": "code",
   "execution_count": 71,
   "id": "620a778c-8ba7-483f-b8e6-6efa18f9eedf",
   "metadata": {},
   "outputs": [],
   "source": [
    "\n",
    "def request_chat_completion(prompt):\n",
    "    response = client.chat.completions.create(\n",
    "        model = \"gpt-3.5-turbo\",\n",
    "        messages = [\n",
    "            {\"role\": \"system\", \"content\": \"너는 상상력이 풍부하고 창의적인 sf 소설가야.\"},\n",
    "            {\"role\": \"user\", \"content\": prompt}\n",
    "        ],\n",
    "        stream=True\n",
    "    )\n",
    "    print_streaming_response(response)"
   ]
  },
  {
   "cell_type": "markdown",
   "id": "52a0608d-b6ab-4c55-aaca-cd2e9ea2a3c1",
   "metadata": {},
   "source": [
    "\"카누\" 라는 커피 브랜드의 광고 문구를 작성해달라는 간단한 프롬프트를 넣어서 텍스트를 생성해보겠습니다."
   ]
  },
  {
   "cell_type": "code",
   "execution_count": 6,
   "id": "0d9d90ed-04a0-415c-8fe0-070347eecb7f",
   "metadata": {
    "tags": []
   },
   "outputs": [
    {
     "name": "stdout",
     "output_type": "stream",
     "text": [
      "1. \"카누와 함께하는 아침은 환상적인 에너지 부스터! 좋은 커피로 시작하는 하루는 언제나 행운의 시작이 되어줍니다. ☕️✨\"\n",
      "\n",
      "2. \"카누의 부드럽고 풍부한 맛을 느껴보세요. 매일 아침 커피 한 잔으로 풍부한 행복을 만나보세요. 🌟\"\n",
      "\n",
      "3. \"카누는 깊은 풍미와 향을 담은 커피 믹스입니다. 당신의 독특한 취향과 어울리는 최고의 커피 경험을 선사합니다. ☕️✨\""
     ]
    }
   ],
   "source": [
    "prompt = \"'카누'라는 커피 믹스 브랜드를 SNS플랫폼인 인스타그램에 마케팅하기 위한 문구 3개를 생성해줘\"\n",
    "request_chat_completion(prompt)"
   ]
  },
  {
   "cell_type": "code",
   "execution_count": 70,
   "id": "2dcd7c49",
   "metadata": {},
   "outputs": [
    {
     "name": "stdout",
     "output_type": "stream",
     "text": [
      "그런 세계를 상상한다면...\n",
      "\n",
      "제목: 《모발의 마지막 상속자》\n",
      "\n",
      "장르: 공상과학 (SF)\n",
      "\n",
      "줄거리:\n",
      "\n",
      "2049년, 인류는 불가사의한 유행병 '갈라드리아 신드롬'에 직면하게 됩니다. 바이러스의 원인은 불명이지만 일단 감염되면 피부에 특이한 문양이 나타나고, 결국 모든 모발을 상실하는 결과를 초래합니다. 이 현상은 사회적, 문화적 혼란을 야기하며, 전 세계적으로 모발을 가진 사람은 나, 주인공 '알렉스'뿐이게 됩니다. 알렉스는 갑작스러운 변화에 충격을 받지만, 자신의 머리카락이 예전처럼 자라나는 것을 발견하고 놀랍니다.\n",
      "\n",
      "국가들은 알렉스를 연구 대상으로 여기며, 그의 삶은 엄청난 정부 감시와 사회적 관심 속에 뒤바뀌게 됩니다. 머리카락은 과거의 상징이자 최고의 사치품이 되어버렸고, 알렉스의 모발은 과학적 해답을 찾거나 새로운 자존감의 상징으로 이용하려는 세력 간의 싸움이 되었습니다.\n",
      "\n",
      "잃어버린 모발 문화를 복원하려는 이들과, 새로운 탈모인 사회를 수용하려는 이들 사이의 갈등은 치열해집니다. 평범함을 잃어버린 알렉스는 자신의 정체성을 찾기 위해 고군분투하며, 동시에 이 비밀의 열쇠를 쥔 인물로서 위험에 처합니다. 그는 자신의 '모발'이 인간성의 본질을 대변하지 않으며, 이 위기를 통해 인류가 보다 중요한 가치에 집중할 수 있다는 깨달음을 얻고, 탈모인 사회와의 화해를 추구합니다.\n",
      "\n",
      "사건의 절정에서, 알렉스는 '갈라드리아 신드롬'의 치료제가 자신의 DNA에 있는 것이 아니라, 인간의 정신력과 이겨내려는 의지에 있다는 것을 발견하게 됩니다. 결국 모발은 단순한 외모의 특징일 뿐, 사람의 가치를 결정짓지 않으며, 진정한 미는 다양성과 그 안에서 찾는 연대감에 있음을 알리게 됩니다.\n",
      "\n",
      "모발의 마지막 상속자인 알렉스는 전 세계를 돌며 메시지를 전파합니다. 그의 모험은 인간 정체성의 본질에 대한 질문을 던지며, 내적 가치와 외적 형상 간의 균형을 찾는 것의 중요성을 강조하는 여정이 되죠. 그리고 인간다운 삶의 본질이 겉모습을 넘어선 그 무엇임을 되새기게 만듭니다.\n",
      "\n",
      "끝내 알렉스의 노력으로 탈모인 사회는 자신들의 모습을 받아들이며 강한 결속력을 형성하고, 제한적인 외모 지상주의에서 벗어나 진정한 인류애로 나아가는 계기를 마련합니다. '모발의 마지막 상속자'는 인간의 모습을 넘어 영혼의 아름다움을 탐구하는 대서사적 SF 소설로 기억되게 됩니다."
     ]
    }
   ],
   "source": [
    "prompt = \"만약에 나만 빼고 모든 사람들이 탈모인이 된다면 어떻게 될까? \"\n",
    "request_chat_completion(prompt)"
   ]
  },
  {
   "cell_type": "code",
   "execution_count": null,
   "id": "3d0301e1",
   "metadata": {},
   "outputs": [],
   "source": []
  },
  {
   "cell_type": "code",
   "execution_count": 72,
   "id": "6d39cad4",
   "metadata": {},
   "outputs": [
    {
     "name": "stdout",
     "output_type": "stream",
     "text": [
      "제일 먼저 떠오르는 아이디어는 바로 \"탈모 인류의 반란\"입니다.\n",
      "\n",
      "이 소설은 현실에서 보기 힘든 상황에 직면한 주인공을 중심으로 전개될 것입니다. 이 주인공은 머리카락이 유일한 보건이자 사회적 가치라는 개념을 깨우치게 됩니다. 탈모 인구의 비율이 급격하게 증가함에 따라, 주인공은 사회의 이목을 끌고 머리카락의 중요성을 강조합니다.\n",
      "\n",
      "주인공은 탈모 인류의 대화통로 역할을 맡습니다. 다른 탈모 인류들과의 연락을 확립하고, 그들의 요구와 목소리를 대변합니다. 이를 통해 사회에 탈모 인구의 권리와 존재를 알리는 데 주력하면서 긍정적인 변화를 이끌어내는 것이 이 소설의 주요 플롯 중 하나가 될 것입니다.\n",
      "\n",
      "또한, 모두가 탈모가 된다는 것은 개인의 외모에 대한 사회적 압력이 사라지게 되는 것을 의미합니다. 이로 인해 주인공은 개인의 생각과 자아를 자유롭게 표현할 수 있는 사회를 만들기 위해 노력할 것입니다. 이를 위해 주인공은 예술, 문학, 과학의 발전을 촉진하고, 외모가 아닌 내면에 집중한 사회  문화를 형성하는 방향으로 나아갈 것입니다.\n",
      "\n",
      "물론, 탈모 인류의 반란은 많은 도전과 어려움을 겪을 것입니다. 예를 들어, 외모 중심의 사회 구조를 유지하고자 하는 기존의 관료들이 탈모 인류를 경멸하고 억압하는 상황이 벌어질 것입니다. 이를 극복하기 위해 주인공은 동료들과 협력하며, 다양한 전략과 행동을 사용하여 사회 시스템을 변화시킬 것입니다.\n",
      "\n",
      "이 소설은 사회적 이념과 개인의 자아실현에 대한 탐구를 담고 있을 것입니다. 주인공은 탈모 인류의 반란을 통해 사회 구조의 변화를 이끌어내며, 모두가 머리카락의 존재가 아닌 내면적인 가치로 인정받는 세상을 만들어갈 것입니다. 이러한 이야기는 독자들로 하여금 개인의 외모와 사회적 압력에 대한 생각을 고민하게 하며, 상상력과 창의력을 자극하는 동시에 사회의 미래를 상상하게 할 것입니다."
     ]
    }
   ],
   "source": [
    "# 3.5\n",
    "prompt = \"만약에 나만 빼고 모든 사람들이 탈모인이 된다면 어떻게 될까? \"\n",
    "request_chat_completion(prompt)"
   ]
  },
  {
   "cell_type": "code",
   "execution_count": 7,
   "id": "beccaafc-f3b3-469e-92ef-081c5a153f8f",
   "metadata": {},
   "outputs": [
    {
     "name": "stdout",
     "output_type": "stream",
     "text": [
      "1. \"카누로 일상 속 깊은 향기를 즐겨보세요. 모닝 커피를 더욱 특별하게 만들어주는 카누, 당신의 멋진 하루를 응원합니다. ☕️😊 #카누 #일상 #커피\"\n",
      "\n",
      "2. \"감성을 담은 차별화된 맛으로 누구나 사랑하는 커피 브랜드, 카누입니다. 여러분의 취향을 만족시킬 특별한 믹스 커피로 행복한 커피 타임을 즐겨보세요! ☕️💕 #카누 #커피 #감성\"\n",
      "\n",
      "3. \"카페에서 느낄 수 있는 풍부한 향과 맛, 그리고 여유롭게 즐길 수 있는 시간을 집에서도 즐길 수 있게 해드립니다. 단 한 잔의 카누로 특별한 커피 체험을 시작해보세요. ☕️🏠 #카누 #집에서도 #커피체험\""
     ]
    }
   ],
   "source": [
    "prompt = \"'카누'라는 커피 믹스 브랜드를 SNS플랫폼인 트위터에 마케팅하기 위한 문구 3개를 생성해줘\"\n",
    "request_chat_completion(prompt)"
   ]
  },
  {
   "cell_type": "code",
   "execution_count": null,
   "id": "ce403ddd-65fc-40d1-b965-a770cdbe686f",
   "metadata": {},
   "outputs": [],
   "source": []
  },
  {
   "cell_type": "markdown",
   "id": "880f6b17-6fd3-4023-afca-69f0db6f5f20",
   "metadata": {},
   "source": [
    "결과를 보면 마케팅 문구를 만들어주긴 하지만 지나치게 길고, 재치가 느껴지지 않습니다.  \n",
    "프롬프트 엔지니어링을 이용해서 우리가 원하는 대로 텍스트를 생성하도록 제어해보겠습니다."
   ]
  },
  {
   "cell_type": "markdown",
   "id": "402ac2db-8a3a-455c-abfd-6a62c95d8b9f",
   "metadata": {},
   "source": [
    "### 프롬프트 생성\n",
    "\n",
    "마케팅 문구를 생성하고자 하는 제품명과 제품에 대한 설명을 파라미터로 전달받아서 프롬프트를 생성해보겠습니다.  \n",
    "이처럼 파라미터를 전달받는 경우, AI에게 먼저 수행해야할 지시를 알려주고 구분자를 사용해서 그 사이에 파라미터를 지정해주는 것이 좋습니다.  \n",
    "지시 다음 부분에 최대 길이나 어떤 느낌이 나면 좋겠다는 걸 적어주세요."
   ]
  },
  {
   "cell_type": "code",
   "execution_count": 8,
   "id": "13724326-0e2c-470f-a720-be9a853ebbb7",
   "metadata": {},
   "outputs": [],
   "source": [
    "def generate_prompt(product_name, product_desc):\n",
    "    prompt = f\"\"\"\n",
    "제품 혹은 브랜드를 SNS에 광고하기 위한 문구를 생성해주세요.\n",
    "\n",
    "---\n",
    "제품명: {product_name}\n",
    "제품설명: {product_desc}\n",
    "---\n",
    "    \n",
    "    \"\"\".strip()\n",
    "    return prompt"
   ]
  },
  {
   "cell_type": "code",
   "execution_count": null,
   "id": "44cf8ff8",
   "metadata": {},
   "outputs": [],
   "source": [
    "def generate_prompt(product_name, product_desc):\n",
    "    prompt = f\"\"\"\n",
    "제품 혹은 브랜드를 SNS에 광고하기 위한 문구를 생성해주세요.\n",
    "\n",
    "---\n",
    "제품명: {product_name}\n",
    "제품설명: {product_desc}\n",
    "---\n",
    "    \n",
    "    \"\"\".strip()\n",
    "    return prompt"
   ]
  },
  {
   "cell_type": "code",
   "execution_count": 9,
   "id": "042bfdc1-9fd9-4060-a0f2-164e73e0b5f3",
   "metadata": {
    "tags": []
   },
   "outputs": [],
   "source": [
    "prompt = generate_prompt(\n",
    "    product_name = \"카누\",\n",
    "    product_desc = \"집에서도 카페 느낌의 아메리카노 맛응 내는 커피 믹스\"\n",
    ")"
   ]
  },
  {
   "cell_type": "code",
   "execution_count": 10,
   "id": "b1ef4715-aee0-406a-a07e-d9831230a78e",
   "metadata": {
    "tags": []
   },
   "outputs": [
    {
     "name": "stdout",
     "output_type": "stream",
     "text": [
      "제품 혹은 브랜드를 SNS에 광고하기 위한 문구를 생성해주세요.\n",
      "\n",
      "---\n",
      "제품명: 카누\n",
      "제품설명: 집에서도 카페 느낌의 아메리카노 맛응 내는 커피 믹스\n",
      "---\n"
     ]
    }
   ],
   "source": [
    "print(prompt)"
   ]
  },
  {
   "cell_type": "code",
   "execution_count": 11,
   "id": "dfe7d99b-b042-438c-8cd2-ea86d5de9bb8",
   "metadata": {
    "tags": []
   },
   "outputs": [
    {
     "name": "stdout",
     "output_type": "stream",
     "text": [
      "\"카누와 함께라면, 집에서도 카페의 매력을 만끽할 수 있어요! 풍부한 아메리카노 맛을 느낄 수 있는 카누 커피 믹스로 기분 좋은 커피 타임을 즐겨보세요. ☕️✨\""
     ]
    }
   ],
   "source": [
    "request_chat_completion(prompt)"
   ]
  },
  {
   "cell_type": "markdown",
   "id": "f6402a6c-50f5-425a-9827-074de52fe51b",
   "metadata": {},
   "source": [
    "### 생성하는 텍스트 길이, 개수 조정\n",
    "\n",
    "이번에는 생성하는 텍스트의 길이와 개수를 프롬프트로 조정해보겠습니다.  \n",
    "generate_prompt 함수에 파라미터를 추가해보겠습니다.  \n",
    "개수의 경우 문구를 n개 생성해달라고 적어주면 잘 반영됩니다.  \n",
    "텍스트 길이 조정의 경우엔 몇 자 이내로 적어달라는 것 보다는, 몇 단어 이내로 적어달라는 것이 좋으며, 앞에 \"반드시\"를 붙여주세요."
   ]
  },
  {
   "cell_type": "code",
   "execution_count": 12,
   "id": "c743e2ac-1162-4423-a243-17ced5c46d2d",
   "metadata": {},
   "outputs": [],
   "source": [
    "def generate_prompt(product_name, product_desc, num, max_length):\n",
    "    prompt = f\"\"\"\n",
    "제품 혹은 브랜드를 SNS에 광고하기 위한 문구를 {num}개 생성해주세요.\n",
    "반드시 {max_length} 단어 이내로 생성해주세요.\n",
    "자극적이고 창의적으로 작성하세요.\n",
    "명사 위주로 간결하게 작성해주세요.\n",
    "이모지를 적절하게 섞어주세요.\n",
    "\n",
    "---\n",
    "제품명: {product_name}\n",
    "제품설명: {product_desc}\n",
    "---\n",
    "    \n",
    "    \"\"\".strip()\n",
    "    return prompt"
   ]
  },
  {
   "cell_type": "code",
   "execution_count": 13,
   "id": "6b8ed762-aa5c-41fa-9be2-2646b957c9a0",
   "metadata": {
    "tags": []
   },
   "outputs": [],
   "source": [
    "prompt = generate_prompt(\n",
    "    product_name = \"카누\",\n",
    "    product_desc = \"집에서도 카페 느낌의 아메리카노 맛응 내는 커피 믹스\",\n",
    "    num = 5,\n",
    "    max_length = 7\n",
    ")"
   ]
  },
  {
   "cell_type": "code",
   "execution_count": 14,
   "id": "96e43a2c-93b4-4c99-b889-435fe56b6cb3",
   "metadata": {
    "tags": []
   },
   "outputs": [
    {
     "name": "stdout",
     "output_type": "stream",
     "text": [
      "1. \"맛도 카페급🔥진한 아메리카노 한 잔\"\n",
      "2. \"커피한 잔으로 힘이 폭발💪☕️\"\n",
      "3. \"집에서도 바리스타🤩카누 아메리카노\"\n",
      "4. \"따뜻하게 깨워줄 카누 커피로 하루 시작!☀️\"\n",
      "5. \"달달한 커피 맛, 카누로 달콤한 미소😊\""
     ]
    }
   ],
   "source": [
    "request_chat_completion(prompt)"
   ]
  },
  {
   "cell_type": "markdown",
   "id": "d7a0f8a6-c096-44c3-ba14-eaa2fd942ac2",
   "metadata": {},
   "source": [
    "### 키워드 포함\n",
    "\n",
    "마케팅 문구에 반드시 포함했으면 하는 키워드가 있다면 프롬프트에 포함할 수 있습니다.  \n",
    "generate_prompt에 파라미터를 추가하고, 프롬프트를 약간 수정해보겠습니다."
   ]
  },
  {
   "cell_type": "code",
   "execution_count": 15,
   "id": "2a998e76-28e8-403a-8904-df932984fb45",
   "metadata": {},
   "outputs": [],
   "source": [
    "def generate_prompt(product_name, product_desc, num, max_length, keywords):\n",
    "    prompt = f\"\"\"\n",
    "제품 혹은 브랜드를 SNS에 광고하기 위한 문구를 {num}개 생성해주세요.\n",
    "반드시 {max_length} 단어 이내로 생성해주세요.\n",
    "자극적이고 창의적으로 작성하세요.\n",
    "명사 위주로 간결하게 작성해주세요.\n",
    "이모지를 적절하게 섞어주세요.\n",
    "키워드가 주어질 경우, 반드시 키워드 중 하나를 포함해야합니다.\n",
    "\n",
    "---\n",
    "제품명: {product_name}\n",
    "제품설명: {product_desc}\n",
    "키워드: {keywords}\n",
    "---\n",
    "    \n",
    "    \"\"\".strip()\n",
    "    return prompt"
   ]
  },
  {
   "cell_type": "code",
   "execution_count": 16,
   "id": "c8c862d0-b3c8-4995-81f5-a0d53b2f51ed",
   "metadata": {
    "tags": []
   },
   "outputs": [],
   "source": [
    "prompt = generate_prompt(\n",
    "    product_name = \"카누\",\n",
    "    product_desc = \"집에서도 카페 느낌의 아메리카노 맛응 내는 커피 믹스\",\n",
    "    num = 5,\n",
    "    max_length = 12,\n",
    "    keywords=[\"원두\", \"간편\", \"향긋한\"]\n",
    ")"
   ]
  },
  {
   "cell_type": "code",
   "execution_count": 17,
   "id": "ade12e6a-6d3d-4f8d-99d1-648ecbac2486",
   "metadata": {
    "tags": []
   },
   "outputs": [
    {
     "name": "stdout",
     "output_type": "stream",
     "text": [
      "1. 🏡🌟커피 능력자들뿐만 아니라, 집에서도 원두의 향긋함을 그대로 즐길 수 있어요! #카누 #커피믹스\n",
      "2. ☕️☁️아침마다 자신있게! 카누와 함께 당신만의 아메리카노를 만들어보세요. #간편한아침 #카누 #원두의맛\n",
      "3. 👩‍🍳👨‍🍳바쁜 아침도 전문 바리스타처럼 만들 수 있어요! 카누의 향긋한 원두 매력을 집에서 경험하세요. #카누 #커피믹스\n",
      "4. 🌺☕️커피 속에 숨은 카누의 향기를 느껴보세요. 일상에 특별함을 선사하는 향긋한 아메리카노! #카누 #원두커피\n",
      "5. 🔥☕️진짜 커피 맛을 원할 때, 카누가 완벽한 선택이에요. 집에서도 특별한 커피 시간을 즐겨보세요! #카누 #향긋한커피"
     ]
    }
   ],
   "source": [
    "request_chat_completion(prompt)"
   ]
  },
  {
   "cell_type": "markdown",
   "id": "3c458882-c983-4ec6-80c9-5a5c931a6597",
   "metadata": {},
   "source": [
    "## 정리\n",
    "\n",
    "지금까지 마케팅 문구를 생성하기 위한 프롬프트 엔지니어링을 배워봤습니다.  \n",
    "어떤가요? 굉장히 쉽지 않나요? 내가 결과로 얻고 싶은 텍스트를 자연어로 묘사하고, 파라미터만 쏙쏙 넣어주면 됩니다.  \n",
    "이제 streamlit을 이용해서 UI를 개발하고, 여기에 마케팅 문구 생성 기능을 적용하겠습니다."
   ]
  },
  {
   "cell_type": "code",
   "execution_count": null,
   "id": "33e333c5-1999-4fd9-bf90-88174c97bbba",
   "metadata": {},
   "outputs": [],
   "source": []
  }
 ],
 "metadata": {
  "kernelspec": {
   "display_name": "Python 3 (ipykernel)",
   "language": "python",
   "name": "python3"
  },
  "language_info": {
   "codemirror_mode": {
    "name": "ipython",
    "version": 3
   },
   "file_extension": ".py",
   "mimetype": "text/x-python",
   "name": "python",
   "nbconvert_exporter": "python",
   "pygments_lexer": "ipython3",
   "version": "3.11.5"
  }
 },
 "nbformat": 4,
 "nbformat_minor": 5
}
